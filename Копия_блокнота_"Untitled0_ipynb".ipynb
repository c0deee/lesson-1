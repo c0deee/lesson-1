{
  "nbformat": 4,
  "nbformat_minor": 0,
  "metadata": {
    "colab": {
      "provenance": [],
      "authorship_tag": "ABX9TyPUSkTi3ygzZboV7qplG1sd",
      "include_colab_link": true
    },
    "kernelspec": {
      "name": "python3",
      "display_name": "Python 3"
    },
    "language_info": {
      "name": "python"
    }
  },
  "cells": [
    {
      "cell_type": "markdown",
      "metadata": {
        "id": "view-in-github",
        "colab_type": "text"
      },
      "source": [
        "<a href=\"https://colab.research.google.com/github/c0deee/lesson-1/blob/main/%D0%9A%D0%BE%D0%BF%D0%B8%D1%8F_%D0%B1%D0%BB%D0%BE%D0%BA%D0%BD%D0%BE%D1%82%D0%B0_%22Untitled0_ipynb%22.ipynb\" target=\"_parent\"><img src=\"https://colab.research.google.com/assets/colab-badge.svg\" alt=\"Open In Colab\"/></a>"
      ]
    },
    {
      "cell_type": "code",
      "source": [
        "import random"
      ],
      "metadata": {
        "id": "qVaw7WCFFHHT"
      },
      "execution_count": null,
      "outputs": []
    },
    {
      "cell_type": "code",
      "source": [
        "intents = {\n",
        "    'hello' : {\n",
        "        'examples' : ['Хелло' , 'Привет' , 'Здравствуйте'],\n",
        "        'responses' : ['Добрый день', 'Как дела?', 'Как настроение?']\n",
        "    },\n",
        "    'weather' : {\n",
        "        'examples' : ['Какая погода?' , 'Что за окном' , 'Во что одеваться?'],\n",
        "        'responses' : ['Погода отличная!' , 'У природы нет плохой погоды!'],\n",
        "    }\n",
        "}"
      ],
      "metadata": {
        "id": "X0vvlz_uFWoh"
      },
      "execution_count": null,
      "outputs": []
    },
    {
      "cell_type": "code",
      "execution_count": null,
      "metadata": {
        "colab": {
          "base_uri": "https://localhost:8080/"
        },
        "id": "6C5x15Td-GaK",
        "outputId": "1d79f7a9-cae7-4bae-ecef-a74b06d6d5bb"
      },
      "outputs": [
        {
          "name": "stdout",
          "output_type": "stream",
          "text": [
            "Ваша Реплика: Здравствуйте\n"
          ]
        }
      ],
      "source": [
        "text = input('Ваша Реплика: ')\n"
      ]
    },
    {
      "cell_type": "code",
      "source": [
        "print(text)"
      ],
      "metadata": {
        "id": "BGVtbIAQ_c1y"
      },
      "execution_count": null,
      "outputs": []
    },
    {
      "cell_type": "code",
      "source": [
        "text = input('Ваша Реплика: ')\n",
        "if text == 'Какая погода?':\n",
        "  print('weather ')"
      ],
      "metadata": {
        "colab": {
          "base_uri": "https://localhost:8080/"
        },
        "id": "q6N4-ylp_tKg",
        "outputId": "f3277951-51f3-45a3-d9c2-ede2b0a2a0a6"
      },
      "execution_count": null,
      "outputs": [
        {
          "output_type": "stream",
          "name": "stdout",
          "text": [
            "Ваша Реплика: Какая погода?\n",
            "weather\n"
          ]
        }
      ]
    },
    {
      "cell_type": "code",
      "source": [
        "intents['hello']['examples']"
      ],
      "metadata": {
        "id": "7xeiz-gLlL08"
      },
      "execution_count": null,
      "outputs": []
    },
    {
      "cell_type": "code",
      "source": [
        "for intent_name in intents:\n",
        "  for example in intents[intent_name]['examples']:\n",
        "    if text == example:\n",
        "      answer = random.choice(intents[intent_name]['responses'])"
      ],
      "metadata": {
        "id": "0rzFDtsbke7w"
      },
      "execution_count": null,
      "outputs": []
    }
  ]
}